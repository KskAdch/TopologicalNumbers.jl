{
 "cells": [
  {
   "cell_type": "code",
   "execution_count": 46,
   "metadata": {},
   "outputs": [
    {
     "data": {
      "text/plain": [
       "pfaffian_schur"
      ]
     },
     "metadata": {},
     "output_type": "display_data"
    }
   ],
   "source": [
    "using PythonCall\n",
    "using SparseArrays\n",
    "using Test\n",
    "pf = pyimport(\"pfapack.pfaffian\")\n",
    "cpf = pyimport(\"pfapack.ctypes.pfaffian\").pfaffian\n",
    "np = pyimport(\"numpy\")\n",
    "include(\"pfaffian.jl\")"
   ]
  },
  {
   "cell_type": "code",
   "execution_count": 47,
   "metadata": {},
   "outputs": [
    {
     "data": {
      "text/plain": [
       "100"
      ]
     },
     "metadata": {},
     "output_type": "display_data"
    }
   ],
   "source": [
    "N = 100"
   ]
  },
  {
   "cell_type": "code",
   "execution_count": 66,
   "metadata": {},
   "outputs": [
    {
     "data": {
      "text/plain": [
       "\u001b[32m\u001b[1mTest Passed\u001b[22m\u001b[39m"
      ]
     },
     "metadata": {},
     "output_type": "display_data"
    },
    {
     "data": {
      "text/plain": [
       "\u001b[32m\u001b[1mTest Passed\u001b[22m\u001b[39m"
      ]
     },
     "metadata": {},
     "output_type": "display_data"
    },
    {
     "data": {
      "text/plain": [
       "\u001b[32m\u001b[1mTest Passed\u001b[22m\u001b[39m"
      ]
     },
     "metadata": {},
     "output_type": "display_data"
    }
   ],
   "source": [
    "A = rand(N, N);\n",
    "A = A .- transpose(A);\n",
    "\n",
    "T = [Vector{Float64}, Int64, Float64]\n",
    "\n",
    "# for i in 1:(size(A, 1)-2)\n",
    "i = 1\n",
    "    A0 = A[i+1:end, i]\n",
    "\n",
    "    for i in eachindex(T)\n",
    "        B1 = pyconvert(T[i], pf.householder_real(np.array(A0))[i-1])\n",
    "        B2 = householder_real(A0)[i]\n",
    "        display(@test B1 ≈ B2)\n",
    "    end\n",
    "# end"
   ]
  },
  {
   "cell_type": "code",
   "execution_count": 67,
   "metadata": {},
   "outputs": [
    {
     "data": {
      "text/plain": [
       "\u001b[32m\u001b[1mTest Passed\u001b[22m\u001b[39m"
      ]
     },
     "metadata": {},
     "output_type": "display_data"
    },
    {
     "data": {
      "text/plain": [
       "\u001b[32m\u001b[1mTest Passed\u001b[22m\u001b[39m"
      ]
     },
     "metadata": {},
     "output_type": "display_data"
    },
    {
     "data": {
      "text/plain": [
       "\u001b[32m\u001b[1mTest Passed\u001b[22m\u001b[39m"
      ]
     },
     "metadata": {},
     "output_type": "display_data"
    }
   ],
   "source": [
    "A = rand(ComplexF64, N, N);\n",
    "A = A .- transpose(A);\n",
    "\n",
    "T = [Vector{ComplexF64}, Int64, ComplexF64]\n",
    "\n",
    "# for i in 1:(size(A, 1)-2)\n",
    "i = 1\n",
    "    A0 = A[i+1:end, i]\n",
    "\n",
    "    for i in eachindex(T)\n",
    "        B1 = pyconvert(T[i], pf.householder_complex(np.array(A0))[i-1])\n",
    "        B2 = householder_complex(A0)[i]\n",
    "        display(@test B1 ≈ B2)\n",
    "    end\n",
    "# end"
   ]
  },
  {
   "cell_type": "code",
   "execution_count": 50,
   "metadata": {},
   "outputs": [
    {
     "data": {
      "text/plain": [
       "\u001b[32m\u001b[1mTest Passed\u001b[22m\u001b[39m"
      ]
     },
     "metadata": {},
     "output_type": "display_data"
    },
    {
     "data": {
      "text/plain": [
       "\u001b[32m\u001b[1mTest Passed\u001b[22m\u001b[39m"
      ]
     },
     "metadata": {},
     "output_type": "display_data"
    }
   ],
   "source": [
    "A = rand(ComplexF64, N, N);\n",
    "A = A .- transpose(A);\n",
    "\n",
    "T = [Matrix{ComplexF64}, Matrix{ComplexF64}]\n",
    "\n",
    "for i in eachindex(T)\n",
    "    B1 = pyconvert(T[i], pf.skew_tridiagonalize(np.array(A))[i-1])\n",
    "    B2 = skew_tridiagonalize(A)[i]\n",
    "    display(@test B1 ≈ B2)\n",
    "end"
   ]
  },
  {
   "cell_type": "code",
   "execution_count": 51,
   "metadata": {},
   "outputs": [
    {
     "data": {
      "text/plain": [
       "\u001b[32m\u001b[1mTest Passed\u001b[22m\u001b[39m"
      ]
     },
     "metadata": {},
     "output_type": "display_data"
    },
    {
     "data": {
      "text/plain": [
       "\u001b[32m\u001b[1mTest Passed\u001b[22m\u001b[39m"
      ]
     },
     "metadata": {},
     "output_type": "display_data"
    },
    {
     "data": {
      "text/plain": [
       "\u001b[32m\u001b[1mTest Passed\u001b[22m\u001b[39m"
      ]
     },
     "metadata": {},
     "output_type": "display_data"
    }
   ],
   "source": [
    "A = rand(ComplexF64, N, N);\n",
    "A = A .- transpose(A);\n",
    "\n",
    "T = [Matrix{ComplexF64}, Matrix{ComplexF64}, SparseMatrixCSC{Float64, Int64}]\n",
    "\n",
    "for i in eachindex(T)[1:end-1]\n",
    "    B1 = pyconvert(T[i], pf.skew_LTL(np.array(A))[i-1])\n",
    "    B2 = skew_LTL(A)[i]\n",
    "    display(@test B1 ≈ B2)\n",
    "end\n",
    "@test Matrix(skew_LTL(A)[3]) ≈ pyconvert(Matrix{Float64}, pf.skew_LTL(np.array(A))[2].toarray())"
   ]
  },
  {
   "cell_type": "code",
   "execution_count": 52,
   "metadata": {},
   "outputs": [
    {
     "data": {
      "text/plain": [
       "\u001b[32m\u001b[1mTest Passed\u001b[22m\u001b[39m"
      ]
     },
     "metadata": {},
     "output_type": "display_data"
    }
   ],
   "source": [
    "A = rand(ComplexF64, N, N);\n",
    "A = A .- transpose(A);\n",
    "\n",
    "T = [ComplexF64]\n",
    "\n",
    "B1 = pyconvert(T[1], pf.pfaffian_LTL(np.array(A)))\n",
    "B2 = pfaffian_LTL(A)\n",
    "display(@test B1 ≈ B2)"
   ]
  },
  {
   "cell_type": "code",
   "execution_count": 53,
   "metadata": {},
   "outputs": [
    {
     "data": {
      "text/plain": [
       "\u001b[32m\u001b[1mTest Passed\u001b[22m\u001b[39m"
      ]
     },
     "metadata": {},
     "output_type": "display_data"
    }
   ],
   "source": [
    "A = rand(ComplexF64, N, N);\n",
    "A = A .- transpose(A);\n",
    "\n",
    "T = [ComplexF64]\n",
    "\n",
    "B1 = pyconvert(T[1], pf.pfaffian_householder(np.array(A)))\n",
    "B2 = pfaffian_householder(A)\n",
    "display(@test B1 ≈ B2)"
   ]
  },
  {
   "cell_type": "code",
   "execution_count": 54,
   "metadata": {},
   "outputs": [
    {
     "data": {
      "text/plain": [
       "\u001b[32m\u001b[1mTest Passed\u001b[22m\u001b[39m"
      ]
     },
     "metadata": {},
     "output_type": "display_data"
    }
   ],
   "source": [
    "A = rand(Float64, N, N);\n",
    "A = A .- transpose(A);\n",
    "\n",
    "T = [ComplexF64]\n",
    "\n",
    "B1 = pyconvert(T[1], pf.pfaffian_schur(np.array(A)))\n",
    "B2 = pfaffian_schur(A)\n",
    "display(@test B1 ≈ B2)"
   ]
  },
  {
   "cell_type": "code",
   "execution_count": 55,
   "metadata": {},
   "outputs": [],
   "source": []
  },
  {
   "cell_type": "code",
   "execution_count": 56,
   "metadata": {},
   "outputs": [],
   "source": []
  },
  {
   "cell_type": "code",
   "execution_count": 57,
   "metadata": {},
   "outputs": [
    {
     "data": {
      "text/plain": [
       "\u001b[32m\u001b[1mTest Passed\u001b[22m\u001b[39m"
      ]
     },
     "metadata": {},
     "output_type": "display_data"
    },
    {
     "data": {
      "text/plain": [
       "\u001b[32m\u001b[1mTest Passed\u001b[22m\u001b[39m"
      ]
     },
     "metadata": {},
     "output_type": "display_data"
    },
    {
     "data": {
      "text/plain": [
       "\u001b[32m\u001b[1mTest Passed\u001b[22m\u001b[39m"
      ]
     },
     "metadata": {},
     "output_type": "display_data"
    }
   ],
   "source": [
    "A = rand(ComplexF64, N, N);\n",
    "A = A .- transpose(A);\n",
    "\n",
    "T = [ComplexF64]\n",
    "\n",
    "B1 = pyconvert(T[1], pf.pfaffian(np.array(A), \"P\"))\n",
    "B2 = pfaffian(A, method=\"P\")\n",
    "display(@test B1 ≈ B2)\n",
    "\n",
    "B3 = det(A)\n",
    "display(@test B1^2 ≈ B3)\n",
    "display(@test B2^2 ≈ B3)"
   ]
  },
  {
   "cell_type": "code",
   "execution_count": 58,
   "metadata": {},
   "outputs": [
    {
     "data": {
      "text/plain": [
       "\u001b[32m\u001b[1mTest Passed\u001b[22m\u001b[39m"
      ]
     },
     "metadata": {},
     "output_type": "display_data"
    },
    {
     "data": {
      "text/plain": [
       "\u001b[32m\u001b[1mTest Passed\u001b[22m\u001b[39m"
      ]
     },
     "metadata": {},
     "output_type": "display_data"
    },
    {
     "data": {
      "text/plain": [
       "\u001b[32m\u001b[1mTest Passed\u001b[22m\u001b[39m"
      ]
     },
     "metadata": {},
     "output_type": "display_data"
    }
   ],
   "source": [
    "A = rand(ComplexF64, N, N);\n",
    "A = A .- transpose(A);\n",
    "\n",
    "T = [ComplexF64]\n",
    "\n",
    "B1 = pyconvert(T[1], pf.pfaffian(np.array(A), \"H\"))\n",
    "B2 = pfaffian(A, method=\"H\")\n",
    "display(@test B1 ≈ B2)\n",
    "\n",
    "B3 = det(A)\n",
    "display(@test B1^2 ≈ B3)\n",
    "display(@test B2^2 ≈ B3)"
   ]
  },
  {
   "cell_type": "code",
   "execution_count": 59,
   "metadata": {},
   "outputs": [],
   "source": []
  },
  {
   "cell_type": "code",
   "execution_count": 60,
   "metadata": {},
   "outputs": [],
   "source": []
  },
  {
   "cell_type": "code",
   "execution_count": 71,
   "metadata": {},
   "outputs": [
    {
     "name": "stdout",
     "output_type": "stream",
     "text": [
      "  1.410 ms (26 allocations: 680 bytes)\n"
     ]
    },
    {
     "data": {
      "text/plain": [
       "Python: (7.743159565381864e+26-7.281842063984266e+25j)"
      ]
     },
     "metadata": {},
     "output_type": "display_data"
    }
   ],
   "source": [
    "using BenchmarkTools\n",
    "\n",
    "A = rand(ComplexF64, N, N);\n",
    "A = A .- transpose(A);\n",
    "\n",
    "@btime $pf.pfaffian($np.array($A), $\"H\")"
   ]
  },
  {
   "cell_type": "code",
   "execution_count": 72,
   "metadata": {},
   "outputs": [
    {
     "name": "stdout",
     "output_type": "stream",
     "text": [
      "  2.155 ms (1455 allocations: 21.36 MiB)\n"
     ]
    },
    {
     "data": {
      "text/plain": [
       "7.74315956538198e26 - 7.281842063983816e25im"
      ]
     },
     "metadata": {},
     "output_type": "display_data"
    }
   ],
   "source": [
    "@btime pfaffian($A, method=$\"H\")"
   ]
  },
  {
   "cell_type": "code",
   "execution_count": 73,
   "metadata": {},
   "outputs": [
    {
     "name": "stdout",
     "output_type": "stream",
     "text": [
      "  1.412 ms (26 allocations: 680 bytes)\n"
     ]
    },
    {
     "data": {
      "text/plain": [
       "Python: (7.743159565381864e+26-7.281842063984266e+25j)"
      ]
     },
     "metadata": {},
     "output_type": "display_data"
    }
   ],
   "source": [
    "@btime $pf.pfaffian($np.array($A), $\"P\")"
   ]
  },
  {
   "cell_type": "code",
   "execution_count": 74,
   "metadata": {},
   "outputs": [
    {
     "name": "stdout",
     "output_type": "stream",
     "text": [
      "  935.708 μs (901 allocations: 10.90 MiB)\n"
     ]
    },
    {
     "data": {
      "text/plain": [
       "7.743159565381971e26 - 7.28184206398396e25im"
      ]
     },
     "metadata": {},
     "output_type": "display_data"
    }
   ],
   "source": [
    "@btime pfaffian($A, method=$\"P\")"
   ]
  },
  {
   "cell_type": "code",
   "execution_count": null,
   "metadata": {},
   "outputs": [],
   "source": [
    "@btime cpf($np.array($A), $\"H\")"
   ]
  }
 ],
 "metadata": {
  "kernelspec": {
   "display_name": "Julia 1.10.0",
   "language": "julia",
   "name": "julia-1.10"
  },
  "language_info": {
   "file_extension": ".jl",
   "mimetype": "application/julia",
   "name": "julia",
   "version": "1.10.0"
  }
 },
 "nbformat": 4,
 "nbformat_minor": 2
}
