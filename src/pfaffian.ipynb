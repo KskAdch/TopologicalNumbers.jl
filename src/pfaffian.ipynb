{
 "cells": [
  {
   "cell_type": "code",
   "execution_count": 1,
   "metadata": {},
   "outputs": [],
   "source": []
  },
  {
   "cell_type": "code",
   "execution_count": 1,
   "metadata": {},
   "outputs": [],
   "source": [
    "using Revise\n",
    "\n",
    "using PythonCall\n",
    "using SparseArrays\n",
    "using Test\n",
    "using BenchmarkTools\n",
    "const pf = pyimport(\"pfapack.pfaffian\")\n",
    "const cpf = pyimport(\"pfapack.ctypes\").pfaffian\n",
    "const np = pyimport(\"numpy\")\n",
    "includet(\"pfaffian.jl\")"
   ]
  },
  {
   "cell_type": "code",
   "execution_count": 2,
   "metadata": {},
   "outputs": [
    {
     "data": {
      "text/plain": [
       "100"
      ]
     },
     "metadata": {},
     "output_type": "display_data"
    }
   ],
   "source": [
    "N = 100"
   ]
  },
  {
   "cell_type": "code",
   "execution_count": 7,
   "metadata": {},
   "outputs": [
    {
     "data": {
      "text/plain": [
       "\u001b[32m\u001b[1mTest Passed\u001b[22m\u001b[39m"
      ]
     },
     "metadata": {},
     "output_type": "display_data"
    },
    {
     "data": {
      "text/plain": [
       "\u001b[32m\u001b[1mTest Passed\u001b[22m\u001b[39m"
      ]
     },
     "metadata": {},
     "output_type": "display_data"
    },
    {
     "data": {
      "text/plain": [
       "\u001b[32m\u001b[1mTest Passed\u001b[22m\u001b[39m"
      ]
     },
     "metadata": {},
     "output_type": "display_data"
    },
    {
     "name": "stdout",
     "output_type": "stream",
     "text": [
      "  718.735 ns (1 allocation: 896 bytes)\n"
     ]
    },
    {
     "name": "stdout",
     "output_type": "stream",
     "text": [
      "  639.024 ns (0 allocations: 0 bytes)\n"
     ]
    },
    {
     "data": {
      "text/plain": [
       "(2, 3.9907435998460046)"
      ]
     },
     "metadata": {},
     "output_type": "display_data"
    }
   ],
   "source": [
    "# AA = rand(N, N);\n",
    "# AA = AA .- transpose(AA);\n",
    "\n",
    "T = [Vector{Float64}, Int64, Float64]\n",
    "\n",
    "# for i in 1:(size(A, 1)-2)\n",
    "i = 1\n",
    "    A0 = AA[i+1:end, i]\n",
    "\n",
    "    for i in eachindex(T)\n",
    "        B1 = pyconvert(T[i], pf.householder_real(np.array(A0))[i-1])\n",
    "        B2 = householder_real(A0)[i]\n",
    "        display(@test B1 ≈ B2)\n",
    "    end\n",
    "# end\n",
    "\n",
    "@btime householder_real($A0)\n",
    "# 718.735 ns (1 allocation: 896 bytes)\n",
    "# @code_warntype householder_real(A0)\n",
    "\n",
    "t = zeros(size(A0))\n",
    "@btime householder_real!($t, $A0)\n",
    "# 639.024 ns (0 allocations: 0 bytes)"
   ]
  },
  {
   "cell_type": "code",
   "execution_count": 18,
   "metadata": {},
   "outputs": [
    {
     "data": {
      "text/plain": [
       "\u001b[32m\u001b[1mTest Passed\u001b[22m\u001b[39m"
      ]
     },
     "metadata": {},
     "output_type": "display_data"
    },
    {
     "data": {
      "text/plain": [
       "\u001b[32m\u001b[1mTest Passed\u001b[22m\u001b[39m"
      ]
     },
     "metadata": {},
     "output_type": "display_data"
    },
    {
     "data": {
      "text/plain": [
       "\u001b[32m\u001b[1mTest Passed\u001b[22m\u001b[39m"
      ]
     },
     "metadata": {},
     "output_type": "display_data"
    },
    {
     "name": "stdout",
     "output_type": "stream",
     "text": [
      "  1.435 μs (1 allocation: 1.77 KiB)\n"
     ]
    },
    {
     "name": "stdout",
     "output_type": "stream",
     "text": [
      "  1.334 μs (0 allocations: 0 bytes)\n"
     ]
    },
    {
     "data": {
      "text/plain": [
       "(2, -2.255539398058652 - 5.229035322596745im)"
      ]
     },
     "metadata": {},
     "output_type": "display_data"
    }
   ],
   "source": [
    "# A = rand(ComplexF64, N, N);\n",
    "# A = A .- transpose(A);\n",
    "\n",
    "T = [Vector{ComplexF64}, Int64, ComplexF64]\n",
    "\n",
    "# for i in 1:(size(A, 1)-2)\n",
    "i = 1\n",
    "    A0 = A[i+1:end, i]\n",
    "\n",
    "    for i in eachindex(T)\n",
    "        B1 = pyconvert(T[i], pf.householder_complex(np.array(A0))[i-1])\n",
    "        B2 = householder_complex(A0)[i]\n",
    "        display(@test B1 ≈ B2)\n",
    "    end\n",
    "# end\n",
    "@btime householder_complex($A0)\n",
    "# 1.435 μs (1 allocation: 1.77 KiB)\n",
    "\n",
    "t = zeros(eltype(A0), size(A0))\n",
    "@btime householder_complex!($t, $A0)\n",
    "# 1.334 μs (0 allocations: 0 bytes)"
   ]
  },
  {
   "cell_type": "code",
   "execution_count": 10,
   "metadata": {},
   "outputs": [
    {
     "data": {
      "text/plain": [
       "\u001b[32m\u001b[1mTest Passed\u001b[22m\u001b[39m"
      ]
     },
     "metadata": {},
     "output_type": "display_data"
    },
    {
     "data": {
      "text/plain": [
       "\u001b[32m\u001b[1mTest Passed\u001b[22m\u001b[39m"
      ]
     },
     "metadata": {},
     "output_type": "display_data"
    },
    {
     "name": "stdout",
     "output_type": "stream",
     "text": [
      "  16.906 ms (1466 allocations: 31.38 MiB)\n"
     ]
    },
    {
     "data": {
      "text/plain": [
       "(ComplexF64[0.0 + 0.0im 5.069958218743592 - 2.2257060394331103im … 0.0 + 0.0im 0.0 + 0.0im; -5.069958218743592 + 2.2257060394331103im 0.0 + 0.0im … 0.0 + 0.0im 0.0 + 0.0im; … ; 0.0 + 0.0im 0.0 + 0.0im … 0.0 + 0.0im -0.023230582659178926 - 0.8105419277097711im; 0.0 + 0.0im 0.0 + 0.0im … 0.023230582659178926 + 0.8105419277097711im 0.0 + 0.0im], ComplexF64[1.0 + 0.0im 0.0 + 0.0im … 0.0 + 0.0im 0.0 + 0.0im; 0.0 + 0.0im -0.08689633049494194 + 0.0im … -0.01491732506487527 - 0.008049186153870229im 0.08701121934381205 + 0.10779688634982748im; … ; 0.0 + 0.0im -0.01436854091243868 - 0.017623172107990193im … -0.0802133446394058 + 0.07718442715087037im -0.09451000629568132 + 0.03960634734507182im; 0.0 + 0.0im -0.02396823323448408 - 0.06212696059082915im … 0.037809624793957115 + 0.11126466040596358im 0.013889642397126555 - 0.11523663056931109im])"
      ]
     },
     "metadata": {},
     "output_type": "display_data"
    }
   ],
   "source": [
    "# A = rand(ComplexF64, N, N);\n",
    "# A = A .- transpose(A);\n",
    "\n",
    "T = [Matrix{ComplexF64}, Matrix{ComplexF64}]\n",
    "\n",
    "for i in eachindex(T)\n",
    "    B1 = pyconvert(T[i], pf.skew_tridiagonalize(np.array(A))[i-1])\n",
    "    B2 = skew_tridiagonalize(A)[i]\n",
    "    display(@test B1 ≈ B2)\n",
    "end\n",
    "\n",
    "@btime skew_tridiagonalize($A)\n",
    "# 16.906 ms (1466 allocations: 31.38 MiB)"
   ]
  },
  {
   "cell_type": "code",
   "execution_count": 11,
   "metadata": {},
   "outputs": [
    {
     "data": {
      "text/plain": [
       "\u001b[32m\u001b[1mTest Passed\u001b[22m\u001b[39m"
      ]
     },
     "metadata": {},
     "output_type": "display_data"
    },
    {
     "data": {
      "text/plain": [
       "\u001b[32m\u001b[1mTest Passed\u001b[22m\u001b[39m"
      ]
     },
     "metadata": {},
     "output_type": "display_data"
    },
    {
     "name": "stdout",
     "output_type": "stream",
     "text": [
      "  8.765 ms (1823 allocations: 20.96 MiB)\n"
     ]
    },
    {
     "data": {
      "text/plain": [
       "(ComplexF64[0.0 + 0.0im -0.7031149868491631 + 0.8553009622381522im … 0.0 + 0.0im 0.0 + 0.0im; 0.7031149868491631 - 0.8553009622381522im 0.0 + 0.0im … 0.0 + 0.0im 0.0 + 0.0im; … ; 0.0 + 0.0im 0.0 + 0.0im … 0.0 + 0.0im -1.380854120387995 + 1.4578346204690675im; 0.0 + 0.0im 0.0 + 0.0im … 1.3808541203879958 - 1.4578346204690678im 0.0 + 0.0im], ComplexF64[1.0 + 0.0im 0.0 + 0.0im … 0.0 + 0.0im 0.0 + 0.0im; 0.0 + 0.0im 1.0 + 0.0im … 0.0 + 0.0im 0.0 + 0.0im; … ; 0.0 + 0.0im -0.015215060940290783 - 0.4584450618399518im … 1.0 + 0.0im 0.0 + 0.0im; 0.0 + 0.0im -0.7109929515519481 - 0.06874005628741457im … 0.4605359916775707 - 0.57061239060303im 1.0 + 0.0im], sparse([1, 88, 20, 90, 45, 51, 19, 9, 80, 41  …  93, 81, 91, 96, 82, 57, 15, 5, 18, 73], [1, 2, 3, 4, 5, 6, 7, 8, 9, 10  …  91, 92, 93, 94, 95, 96, 97, 98, 99, 100], [1.0, 1.0, 1.0, 1.0, 1.0, 1.0, 1.0, 1.0, 1.0, 1.0  …  1.0, 1.0, 1.0, 1.0, 1.0, 1.0, 1.0, 1.0, 1.0, 1.0], 100, 100))"
      ]
     },
     "metadata": {},
     "output_type": "display_data"
    }
   ],
   "source": [
    "# A = rand(ComplexF64, N, N);\n",
    "# A = A .- transpose(A);\n",
    "\n",
    "T = [Matrix{ComplexF64}, Matrix{ComplexF64}, SparseMatrixCSC{Float64, Int64}]\n",
    "\n",
    "for i in eachindex(T)[1:end-1]\n",
    "    B1 = pyconvert(T[i], pf.skew_LTL(np.array(A))[i-1])\n",
    "    B2 = skew_LTL(A)[i]\n",
    "    display(@test B1 ≈ B2)\n",
    "end\n",
    "@test Matrix(skew_LTL(A)[3]) ≈ pyconvert(Matrix{Float64}, pf.skew_LTL(np.array(A))[2].toarray())\n",
    "\n",
    "@btime skew_LTL($A)\n",
    "# 8.765 ms (1823 allocations: 20.96 MiB)"
   ]
  },
  {
   "cell_type": "code",
   "execution_count": 95,
   "metadata": {},
   "outputs": [
    {
     "data": {
      "text/plain": [
       "\u001b[32m\u001b[1mTest Passed\u001b[22m\u001b[39m"
      ]
     },
     "metadata": {},
     "output_type": "display_data"
    },
    {
     "name": "stdout",
     "output_type": "stream",
     "text": [
      "  1.155 ms (55 allocations: 258.98 KiB)\n"
     ]
    },
    {
     "data": {
      "text/plain": [
       "9.37554880316727e25 + 1.6310201802886743e27im"
      ]
     },
     "metadata": {},
     "output_type": "display_data"
    }
   ],
   "source": [
    "function test()\n",
    "    A = rand(ComplexF64, N, N);\n",
    "    A = A .- transpose(A);\n",
    "\n",
    "    T = [ComplexF64]\n",
    "\n",
    "    B1 = pyconvert(T[1], pf.pfaffian_LTL(np.array(A)))\n",
    "    B2 = pfaffian_LTL(A)\n",
    "    display(@test B1 ≈ B2)\n",
    "\n",
    "    @btime pfaffian_LTL($A)\n",
    "end\n",
    "test()\n",
    "# 4.083 ms (914 allocations: 10.68 MiB)\n",
    "# 2.485 ms (362 allocations: 5.32 MiB)\n",
    "# 1.191 ms (198 allocations: 388.16 KiB)\n",
    "# 1.194 ms (150 allocations: 348.66 KiB)\n",
    "# 1.150 ms (55 allocations: 258.98 KiB)"
   ]
  },
  {
   "cell_type": "code",
   "execution_count": 96,
   "metadata": {},
   "outputs": [
    {
     "data": {
      "text/plain": [
       "\u001b[32m\u001b[1mTest Passed\u001b[22m\u001b[39m"
      ]
     },
     "metadata": {},
     "output_type": "display_data"
    },
    {
     "name": "stdout",
     "output_type": "stream",
     "text": [
      "  246.603 μs (55 allocations: 180.14 KiB)\n"
     ]
    },
    {
     "data": {
      "text/plain": [
       "7.680106790846349e17"
      ]
     },
     "metadata": {},
     "output_type": "display_data"
    }
   ],
   "source": [
    "function test()\n",
    "    A = rand(Float64, N, N);\n",
    "    A = A .- transpose(A);\n",
    "\n",
    "    T = [Float64]\n",
    "\n",
    "    B1 = pyconvert(T[1], pf.pfaffian_LTL(np.array(A)))\n",
    "    B2 = pfaffian_LTL(A)\n",
    "    display(@test B1 ≈ B2)\n",
    "\n",
    "    @btime pfaffian_LTL($A)\n",
    "end\n",
    "test()\n",
    "# 246.603 μs (55 allocations: 180.14 KiB)"
   ]
  },
  {
   "cell_type": "code",
   "execution_count": 64,
   "metadata": {},
   "outputs": [
    {
     "data": {
      "text/plain": [
       "\u001b[32m\u001b[1mTest Passed\u001b[22m\u001b[39m"
      ]
     },
     "metadata": {},
     "output_type": "display_data"
    },
    {
     "name": "stdout",
     "output_type": "stream",
     "text": [
      "  2.635 ms (104 allocations: 324.44 KiB)\n"
     ]
    },
    {
     "data": {
      "text/plain": [
       "-8.750490181196981e26 - 8.285968266854594e26im"
      ]
     },
     "metadata": {},
     "output_type": "display_data"
    }
   ],
   "source": [
    "function test()\n",
    "    A = rand(ComplexF64, N, N);\n",
    "    A = A .- transpose(A);\n",
    "\n",
    "    T = [ComplexF64]\n",
    "\n",
    "    B1 = pyconvert(T[1], pf.pfaffian_householder(np.array(A)))\n",
    "    B2 = pfaffian_householder(A)\n",
    "    display(@test B1 ≈ B2)\n",
    "\n",
    "    @btime pfaffian_householder($A)\n",
    "end\n",
    "test()\n",
    "# 7.847 ms (699 allocations: 15.61 MiB)\n",
    "# 7.228 ms (601 allocations: 15.53 MiB)\n",
    "# 5.967 ms (273 allocations: 5.64 MiB)\n",
    "# 5.458 ms (108 allocations: 637.03 KiB)\n",
    "# 5.034 ms (108 allocations: 637.03 KiB)\n",
    "# 4.762 ms (108 allocations: 637.03 KiB)\n",
    "# 4.855 ms (106 allocations: 480.73 KiB)\n",
    "# 3.805 ms (106 allocations: 477.67 KiB)\n",
    "# 2.789 ms (106 allocations: 477.67 KiB)\n",
    "# 2.671 ms (106 allocations: 477.67 KiB)"
   ]
  },
  {
   "cell_type": "code",
   "execution_count": 66,
   "metadata": {},
   "outputs": [
    {
     "data": {
      "text/plain": [
       "\u001b[32m\u001b[1mTest Passed\u001b[22m\u001b[39m"
      ]
     },
     "metadata": {},
     "output_type": "display_data"
    },
    {
     "name": "stdout",
     "output_type": "stream",
     "text": [
      "  693.684 μs (6 allocations: 158.09 KiB)\n"
     ]
    },
    {
     "data": {
      "text/plain": [
       "7.60136906539197e19"
      ]
     },
     "metadata": {},
     "output_type": "display_data"
    }
   ],
   "source": [
    "function test()\n",
    "    A = rand(Float64, N, N);\n",
    "    A = A .- transpose(A);\n",
    "\n",
    "    T = [Float64]\n",
    "\n",
    "    B1 = pyconvert(T[1], pf.pfaffian_householder(np.array(A)))\n",
    "    B2 = pfaffian_householder(A)\n",
    "    display(@test B1 ≈ B2)\n",
    "\n",
    "    @btime pfaffian_householder($A)\n",
    "end\n",
    "test()\n",
    "# 693.684 μs (6 allocations: 158.09 KiB)"
   ]
  },
  {
   "cell_type": "code",
   "execution_count": 80,
   "metadata": {},
   "outputs": [
    {
     "data": {
      "text/plain": [
       "\u001b[32m\u001b[1mTest Passed\u001b[22m\u001b[39m"
      ]
     },
     "metadata": {},
     "output_type": "display_data"
    },
    {
     "name": "stdout",
     "output_type": "stream",
     "text": [
      "  10.571 ms (19 allocations: 432.47 KiB)\n"
     ]
    },
    {
     "data": {
      "text/plain": [
       "4.373876868906428e19"
      ]
     },
     "metadata": {},
     "output_type": "display_data"
    }
   ],
   "source": [
    "function test()\n",
    "    A = rand(Float64, N, N);\n",
    "    A = A .- transpose(A);\n",
    "\n",
    "    T = [Float64]\n",
    "\n",
    "    B1 = pyconvert(T[1], pf.pfaffian_schur(np.array(A)))\n",
    "    B2 = pfaffian_schur(A)\n",
    "    display(@test B1 ≈ B2)\n",
    "\n",
    "    @btime pfaffian_schur($A)\n",
    "end\n",
    "test()\n",
    "# 10.489 ms (20 allocations: 432.95 KiB)"
   ]
  },
  {
   "cell_type": "code",
   "execution_count": 11,
   "metadata": {},
   "outputs": [],
   "source": []
  },
  {
   "cell_type": "code",
   "execution_count": 12,
   "metadata": {},
   "outputs": [],
   "source": []
  },
  {
   "cell_type": "code",
   "execution_count": 101,
   "metadata": {},
   "outputs": [
    {
     "data": {
      "text/plain": [
       "\u001b[32m\u001b[1mTest Passed\u001b[22m\u001b[39m"
      ]
     },
     "metadata": {},
     "output_type": "display_data"
    },
    {
     "data": {
      "text/plain": [
       "\u001b[32m\u001b[1mTest Passed\u001b[22m\u001b[39m"
      ]
     },
     "metadata": {},
     "output_type": "display_data"
    },
    {
     "data": {
      "text/plain": [
       "\u001b[32m\u001b[1mTest Passed\u001b[22m\u001b[39m"
      ]
     },
     "metadata": {},
     "output_type": "display_data"
    },
    {
     "name": "stdout",
     "output_type": "stream",
     "text": [
      "  1.266 ms (57 allocations: 337.16 KiB)\n"
     ]
    },
    {
     "data": {
      "text/plain": [
       "-1.2384259713631659e27 + 3.8152809529251854e26im"
      ]
     },
     "metadata": {},
     "output_type": "display_data"
    }
   ],
   "source": [
    "A = rand(ComplexF64, N, N);\n",
    "A = A .- transpose(A);\n",
    "\n",
    "T = [ComplexF64]\n",
    "\n",
    "B1 = pyconvert(T[1], pf.pfaffian(np.array(A), \"P\"))\n",
    "B2 = pfaffian(A, method=\"P\")\n",
    "display(@test B1 ≈ B2)\n",
    "\n",
    "B3 = det(A)\n",
    "display(@test B1^2 ≈ B3)\n",
    "display(@test B2^2 ≈ B3)\n",
    "\n",
    "@btime pfaffian($A, method=$\"P\")\n",
    "# 4.202 ms (923 allocations: 10.75 MiB)\n",
    "# 1.263 ms (58 allocations: 337.22 KiB)"
   ]
  },
  {
   "cell_type": "code",
   "execution_count": 102,
   "metadata": {},
   "outputs": [
    {
     "data": {
      "text/plain": [
       "\u001b[32m\u001b[1mTest Passed\u001b[22m\u001b[39m"
      ]
     },
     "metadata": {},
     "output_type": "display_data"
    },
    {
     "data": {
      "text/plain": [
       "\u001b[32m\u001b[1mTest Passed\u001b[22m\u001b[39m"
      ]
     },
     "metadata": {},
     "output_type": "display_data"
    },
    {
     "data": {
      "text/plain": [
       "\u001b[32m\u001b[1mTest Passed\u001b[22m\u001b[39m"
      ]
     },
     "metadata": {},
     "output_type": "display_data"
    },
    {
     "name": "stdout",
     "output_type": "stream",
     "text": [
      "  273.853 μs (57 allocations: 258.31 KiB)\n"
     ]
    },
    {
     "data": {
      "text/plain": [
       "4.0939509862088714e18"
      ]
     },
     "metadata": {},
     "output_type": "display_data"
    }
   ],
   "source": [
    "A = rand(Float64, N, N);\n",
    "A = A .- transpose(A);\n",
    "\n",
    "T = [Float64]\n",
    "\n",
    "B1 = pyconvert(T[1], pf.pfaffian(np.array(A), \"P\"))\n",
    "B2 = pfaffian(A, method=\"P\")\n",
    "display(@test B1 ≈ B2)\n",
    "\n",
    "B3 = det(A)\n",
    "display(@test B1^2 ≈ B3)\n",
    "display(@test B2^2 ≈ B3)\n",
    "\n",
    "@btime pfaffian($AA, method=$\"P\")\n",
    "# 1.900 ms (905 allocations: 5.49 MiB)\n",
    "# 274.525 μs (58 allocations: 258.38 KiB)"
   ]
  },
  {
   "cell_type": "code",
   "execution_count": 103,
   "metadata": {},
   "outputs": [
    {
     "data": {
      "text/plain": [
       "\u001b[32m\u001b[1mTest Passed\u001b[22m\u001b[39m"
      ]
     },
     "metadata": {},
     "output_type": "display_data"
    },
    {
     "data": {
      "text/plain": [
       "\u001b[32m\u001b[1mTest Passed\u001b[22m\u001b[39m"
      ]
     },
     "metadata": {},
     "output_type": "display_data"
    },
    {
     "data": {
      "text/plain": [
       "\u001b[32m\u001b[1mTest Passed\u001b[22m\u001b[39m"
      ]
     },
     "metadata": {},
     "output_type": "display_data"
    },
    {
     "name": "stdout",
     "output_type": "stream",
     "text": [
      "  2.814 ms (106 allocations: 402.61 KiB)\n"
     ]
    },
    {
     "data": {
      "text/plain": [
       "-1.7831631661032433e27 + 8.991287317221923e26im"
      ]
     },
     "metadata": {},
     "output_type": "display_data"
    }
   ],
   "source": [
    "A = rand(ComplexF64, N, N);\n",
    "A = A .- transpose(A);\n",
    "\n",
    "T = [ComplexF64]\n",
    "\n",
    "B1 = pyconvert(T[1], pf.pfaffian(np.array(A), \"H\"))\n",
    "B2 = pfaffian(A, method=\"H\")\n",
    "display(@test B1 ≈ B2)\n",
    "\n",
    "B3 = det(A)\n",
    "display(@test B1^2 ≈ B3)\n",
    "display(@test B2^2 ≈ B3)\n",
    "\n",
    "@btime pfaffian($A, method=$\"H\")\n",
    "# 2.745 ms (107 allocations: 402.67 KiB)"
   ]
  },
  {
   "cell_type": "code",
   "execution_count": 104,
   "metadata": {},
   "outputs": [
    {
     "data": {
      "text/plain": [
       "\u001b[32m\u001b[1mTest Passed\u001b[22m\u001b[39m"
      ]
     },
     "metadata": {},
     "output_type": "display_data"
    },
    {
     "data": {
      "text/plain": [
       "\u001b[32m\u001b[1mTest Passed\u001b[22m\u001b[39m"
      ]
     },
     "metadata": {},
     "output_type": "display_data"
    },
    {
     "data": {
      "text/plain": [
       "\u001b[32m\u001b[1mTest Passed\u001b[22m\u001b[39m"
      ]
     },
     "metadata": {},
     "output_type": "display_data"
    },
    {
     "name": "stdout",
     "output_type": "stream",
     "text": [
      "  718.669 μs (8 allocations: 236.27 KiB)\n"
     ]
    },
    {
     "data": {
      "text/plain": [
       "-2.2306769194648764e19"
      ]
     },
     "metadata": {},
     "output_type": "display_data"
    }
   ],
   "source": [
    "A = rand(Float64, N, N);\n",
    "A = A .- transpose(A);\n",
    "\n",
    "T = [Float64]\n",
    "\n",
    "B1 = pyconvert(T[1], pf.pfaffian(np.array(A), \"H\"))\n",
    "B2 = pfaffian(A, method=\"H\")\n",
    "display(@test B1 ≈ B2)\n",
    "\n",
    "B3 = det(A)\n",
    "display(@test B1^2 ≈ B3)\n",
    "display(@test B2^2 ≈ B3)\n",
    "\n",
    "@btime pfaffian($A, method=$\"H\")\n",
    "# 739.114 μs (9 allocations: 236.33 KiB)"
   ]
  },
  {
   "cell_type": "code",
   "execution_count": 15,
   "metadata": {},
   "outputs": [],
   "source": []
  },
  {
   "cell_type": "code",
   "execution_count": 16,
   "metadata": {},
   "outputs": [],
   "source": []
  },
  {
   "cell_type": "markdown",
   "metadata": {},
   "source": [
    "# Python"
   ]
  },
  {
   "cell_type": "code",
   "execution_count": 67,
   "metadata": {},
   "outputs": [],
   "source": [
    "A = rand(ComplexF64, N, N);\n",
    "A = A .- transpose(A);\n",
    "\n",
    "Ar = rand(Float64, N, N);\n",
    "Ar = Ar .- transpose(Ar);"
   ]
  },
  {
   "cell_type": "code",
   "execution_count": 17,
   "metadata": {},
   "outputs": [
    {
     "name": "stdout",
     "output_type": "stream",
     "text": [
      "  7.329 ms (26 allocations: 680 bytes)\n"
     ]
    },
    {
     "data": {
      "text/plain": [
       "Python: (-6.005140129442108e+25+4.827311008615672e+26j)"
      ]
     },
     "metadata": {},
     "output_type": "display_data"
    }
   ],
   "source": [
    "@btime $pf.pfaffian($np.array($A), $\"H\")\n",
    "# 7.329 ms (26 allocations: 680 bytes)"
   ]
  },
  {
   "cell_type": "code",
   "execution_count": 81,
   "metadata": {},
   "outputs": [
    {
     "name": "stdout",
     "output_type": "stream",
     "text": [
      "  4.772 ms (25 allocations: 664 bytes)\n"
     ]
    },
    {
     "data": {
      "text/plain": [
       "Python: 8.74278931693956e+19"
      ]
     },
     "metadata": {},
     "output_type": "display_data"
    }
   ],
   "source": [
    "@btime $pf.pfaffian($np.array($Ar), $\"H\")\n",
    "# 4.772 ms (25 allocations: 664 bytes)"
   ]
  },
  {
   "cell_type": "code",
   "execution_count": 18,
   "metadata": {},
   "outputs": [
    {
     "name": "stdout",
     "output_type": "stream",
     "text": [
      "  7.243 ms (26 allocations: 680 bytes)\n"
     ]
    },
    {
     "data": {
      "text/plain": [
       "Python: (-6.005140129442108e+25+4.827311008615672e+26j)"
      ]
     },
     "metadata": {},
     "output_type": "display_data"
    }
   ],
   "source": [
    "@btime $pf.pfaffian($np.array($A), $\"P\")\n",
    "# 7.243 ms (26 allocations: 680 bytes)"
   ]
  },
  {
   "cell_type": "code",
   "execution_count": 82,
   "metadata": {},
   "outputs": [
    {
     "name": "stdout",
     "output_type": "stream",
     "text": [
      "  4.836 ms (25 allocations: 664 bytes)\n"
     ]
    },
    {
     "data": {
      "text/plain": [
       "Python: 8.74278931693956e+19"
      ]
     },
     "metadata": {},
     "output_type": "display_data"
    }
   ],
   "source": [
    "@btime $pf.pfaffian($np.array($Ar), $\"P\")\n",
    "# 4.836 ms (25 allocations: 664 bytes)"
   ]
  },
  {
   "cell_type": "markdown",
   "metadata": {},
   "source": [
    "# C"
   ]
  },
  {
   "cell_type": "code",
   "execution_count": 19,
   "metadata": {},
   "outputs": [
    {
     "name": "stdout",
     "output_type": "stream",
     "text": [
      "  849.166 μs (24 allocations: 624 bytes)\n"
     ]
    },
    {
     "data": {
      "text/plain": [
       "Python: (-6.00514012944221e+25+4.8273110086157624e+26j)"
      ]
     },
     "metadata": {},
     "output_type": "display_data"
    }
   ],
   "source": [
    "@btime cpf($np.array($A), method=$\"H\")\n",
    "# 849.166 μs (24 allocations: 624 bytes)"
   ]
  },
  {
   "cell_type": "code",
   "execution_count": 68,
   "metadata": {},
   "outputs": [
    {
     "name": "stdout",
     "output_type": "stream",
     "text": [
      "  331.007 μs (23 allocations: 608 bytes)\n"
     ]
    },
    {
     "data": {
      "text/plain": [
       "Python: 8.742789316939607e+19"
      ]
     },
     "metadata": {},
     "output_type": "display_data"
    }
   ],
   "source": [
    "@btime cpf($np.array($Ar), method=$\"H\")\n",
    "# 331.007 μs (23 allocations: 608 bytes)"
   ]
  },
  {
   "cell_type": "code",
   "execution_count": 20,
   "metadata": {},
   "outputs": [
    {
     "name": "stdout",
     "output_type": "stream",
     "text": [
      "  533.480 μs (24 allocations: 624 bytes)\n"
     ]
    },
    {
     "data": {
      "text/plain": [
       "Python: (-6.005140129442366e+25+4.82731100861568e+26j)"
      ]
     },
     "metadata": {},
     "output_type": "display_data"
    }
   ],
   "source": [
    "@btime cpf($np.array($A), method=$\"P\")\n",
    "# 533.480 μs (24 allocations: 624 bytes)"
   ]
  },
  {
   "cell_type": "code",
   "execution_count": 84,
   "metadata": {},
   "outputs": [
    {
     "name": "stdout",
     "output_type": "stream",
     "text": [
      "  192.462 μs (23 allocations: 608 bytes)\n"
     ]
    },
    {
     "data": {
      "text/plain": [
       "Python: 8.742789316939645e+19"
      ]
     },
     "metadata": {},
     "output_type": "display_data"
    }
   ],
   "source": [
    "@btime cpf($np.array($Ar), method=$\"P\")\n",
    "# 192.462 μs (23 allocations: 608 bytes)"
   ]
  },
  {
   "cell_type": "code",
   "execution_count": 25,
   "metadata": {},
   "outputs": [],
   "source": []
  },
  {
   "cell_type": "code",
   "execution_count": 28,
   "metadata": {},
   "outputs": [],
   "source": []
  }
 ],
 "metadata": {
  "kernelspec": {
   "display_name": "Julia 1.10.0",
   "language": "julia",
   "name": "julia-1.10"
  },
  "language_info": {
   "file_extension": ".jl",
   "mimetype": "application/julia",
   "name": "julia",
   "version": "1.10.0"
  }
 },
 "nbformat": 4,
 "nbformat_minor": 2
}
