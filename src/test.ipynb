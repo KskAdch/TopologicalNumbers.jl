{
 "cells": [
  {
   "cell_type": "code",
   "execution_count": 5,
   "metadata": {},
   "outputs": [
    {
     "data": {
      "text/plain": [
       "5×5 Matrix{SVector{3, Float64}}:\n",
       " [0.182955, 0.247995, 0.476986]     …  [0.448453, 0.409554, 0.096342]\n",
       " [0.00658732, 0.0798996, 0.942135]     [0.0749077, 0.879295, 0.0393146]\n",
       " [0.230651, 0.173456, 0.330431]        [0.181315, 0.748725, 0.819605]\n",
       " [0.247579, 0.88218, 0.181651]         [0.871101, 0.904766, 0.178834]\n",
       " [0.298818, 0.0904506, 0.799936]       [0.858429, 0.121583, 0.555946]"
      ]
     },
     "metadata": {},
     "output_type": "display_data"
    }
   ],
   "source": [
    "using StaticArrays\n",
    "a = [@SVector rand(3) for i in 1:5, j in 1:5]"
   ]
  },
  {
   "cell_type": "code",
   "execution_count": 7,
   "metadata": {},
   "outputs": [
    {
     "data": {
      "text/plain": [
       "3-element SVector{3, Float64} with indices SOneTo(3):\n",
       " 0.0\n",
       " 0.0\n",
       " 0.0"
      ]
     },
     "metadata": {},
     "output_type": "display_data"
    }
   ],
   "source": [
    "a[1, 1] = @SVector zeros(3)"
   ]
  },
  {
   "cell_type": "code",
   "execution_count": 8,
   "metadata": {},
   "outputs": [
    {
     "data": {
      "text/plain": [
       "5×5 Matrix{SVector{3, Float64}}:\n",
       " [0.0, 0.0, 0.0]                    …  [0.448453, 0.409554, 0.096342]\n",
       " [0.00658732, 0.0798996, 0.942135]     [0.0749077, 0.879295, 0.0393146]\n",
       " [0.230651, 0.173456, 0.330431]        [0.181315, 0.748725, 0.819605]\n",
       " [0.247579, 0.88218, 0.181651]         [0.871101, 0.904766, 0.178834]\n",
       " [0.298818, 0.0904506, 0.799936]       [0.858429, 0.121583, 0.555946]"
      ]
     },
     "metadata": {},
     "output_type": "display_data"
    }
   ],
   "source": [
    "a"
   ]
  },
  {
   "cell_type": "code",
   "execution_count": 13,
   "metadata": {},
   "outputs": [
    {
     "data": {
      "text/plain": [
       "4×2 SMatrix{4, 2, Float64, 8} with indices SOneTo(4)×SOneTo(2):\n",
       " 0.544041  0.151316\n",
       " 0.570505  0.326269\n",
       " 0.29705   0.246729\n",
       " 0.650199  0.966746"
      ]
     },
     "metadata": {},
     "output_type": "display_data"
    }
   ],
   "source": [
    "b = @SMatrix rand(4, 2)"
   ]
  },
  {
   "cell_type": "code",
   "execution_count": 14,
   "metadata": {},
   "outputs": [
    {
     "data": {
      "text/plain": [
       "2×2 SMatrix{2, 2, Float64, 4} with indices SOneTo(2)×SOneTo(2):\n",
       " 1.13245   0.970328\n",
       " 0.970328  1.12482"
      ]
     },
     "metadata": {},
     "output_type": "display_data"
    }
   ],
   "source": [
    "adjoint(b) * b"
   ]
  },
  {
   "cell_type": "code",
   "execution_count": null,
   "metadata": {},
   "outputs": [],
   "source": []
  }
 ],
 "metadata": {
  "kernelspec": {
   "display_name": "Julia 1.9.3",
   "language": "julia",
   "name": "julia-1.9"
  },
  "language_info": {
   "file_extension": ".jl",
   "mimetype": "application/julia",
   "name": "julia",
   "version": "1.9.3"
  }
 },
 "nbformat": 4,
 "nbformat_minor": 2
}
