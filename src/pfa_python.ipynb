{
 "cells": [
  {
   "cell_type": "code",
   "execution_count": 48,
   "metadata": {},
   "outputs": [],
   "source": [
    "import cmath\n",
    "import math\n",
    "\n",
    "import numpy as np\n",
    "import scipy.linalg as la\n",
    "import scipy.sparse as sp\n",
    "from pfapack import pfaffian as pf"
   ]
  },
  {
   "cell_type": "code",
   "execution_count": 25,
   "metadata": {},
   "outputs": [
    {
     "data": {
      "text/plain": [
       "array([[ 0. +0.j ,  0.2+0.6j, -0.8+0.5j,  0.3-0.2j],\n",
       "       [-0.2-0.6j,  0. +0.j ,  0.4-0.2j,  0. +0.5j],\n",
       "       [ 0.8-0.5j, -0.4+0.2j,  0. +0.j ,  0.5-0.6j],\n",
       "       [-0.3+0.2j,  0. -0.5j, -0.5+0.6j,  0. +0.j ]])"
      ]
     },
     "execution_count": 25,
     "metadata": {},
     "output_type": "execute_result"
    }
   ],
   "source": [
    "A0 = np.array([\n",
    "    [0.3+0.2j, 0.6+0.8j, 0.1+0.7j, 0.9+0.4j],\n",
    "    [0.4+0.2j, 0.2+0.3j, 0.5+0.1j, 0.7+0.6j],\n",
    "    [0.9+0.2j, 0.1+0.3j, 0.4+0.6j, 0.8+0.2j],\n",
    "    [0.6+0.6j, 0.7+0.1j, 0.3+0.8j, 0.1+0.5j]])\n",
    "# A1 = A0.transpose()\n",
    "# A1\n",
    "A0 = A0 - A0.transpose()\n",
    "A0"
   ]
  },
  {
   "cell_type": "code",
   "execution_count": 38,
   "metadata": {},
   "outputs": [
    {
     "name": "stdout",
     "output_type": "stream",
     "text": [
      "0\n",
      "2\n",
      "1\n",
      "3\n"
     ]
    },
    {
     "data": {
      "text/plain": [
       "array([[1.+0.j, 0.+0.j, 0.+0.j, 0.+0.j],\n",
       "       [0.+0.j, 1.+0.j, 0.+0.j, 0.+0.j],\n",
       "       [0.+0.j, 0.+0.j, 1.+0.j, 0.+0.j],\n",
       "       [0.+0.j, 0.+0.j, 0.+0.j, 1.+0.j]])"
      ]
     },
     "execution_count": 38,
     "metadata": {},
     "output_type": "execute_result"
    }
   ],
   "source": [
    "n = A0.shape[0]\n",
    "L = np.eye(n, dtype=A0.dtype)\n",
    "for k in range(n-2):\n",
    "    kp = k + 1 + np.abs(A0[k + 1 :, k]).argmax()\n",
    "    if kp != k + 1:\n",
    "            print(k)\n",
    "            print(kp)\n",
    "            temp = L[k + 1, 1 : k + 1].copy()\n",
    "            L[k + 1, 1 : k + 1] = L[kp, 1 : k + 1]\n",
    "            L[kp, 1 : k + 1] = temp\n",
    "L"
   ]
  },
  {
   "cell_type": "code",
   "execution_count": 35,
   "metadata": {},
   "outputs": [
    {
     "data": {
      "text/plain": [
       "2"
      ]
     },
     "execution_count": 35,
     "metadata": {},
     "output_type": "execute_result"
    }
   ],
   "source": [
    "k = 0\n",
    "kp = k + 1 + np.abs(A0[k + 1 :, k]).argmax()\n",
    "kp"
   ]
  },
  {
   "cell_type": "code",
   "execution_count": null,
   "metadata": {},
   "outputs": [],
   "source": []
  },
  {
   "cell_type": "code",
   "execution_count": null,
   "metadata": {},
   "outputs": [],
   "source": []
  },
  {
   "cell_type": "code",
   "execution_count": 52,
   "metadata": {},
   "outputs": [
    {
     "data": {
      "text/plain": [
       "array([[ 0. +0.j ,  0.2+0.6j, -0.8+0.5j,  0.3-0.2j],\n",
       "       [-0.2-0.6j,  0. +0.j ,  0.4-0.2j,  0. +0.5j],\n",
       "       [ 0.8-0.5j, -0.4+0.2j,  0. +0.j ,  0.5-0.6j],\n",
       "       [-0.3+0.2j,  0. -0.5j, -0.5+0.6j,  0. +0.j ]])"
      ]
     },
     "execution_count": 52,
     "metadata": {},
     "output_type": "execute_result"
    }
   ],
   "source": [
    "A = np.array([\n",
    "    [0.3+0.2j, 0.6+0.8j, 0.1+0.7j, 0.9+0.4j],\n",
    "    [0.4+0.2j, 0.2+0.3j, 0.5+0.1j, 0.7+0.6j],\n",
    "    [0.9+0.2j, 0.1+0.3j, 0.4+0.6j, 0.8+0.2j],\n",
    "    [0.6+0.6j, 0.7+0.1j, 0.3+0.8j, 0.1+0.5j]])\n",
    "# A1 = A0.transpose()\n",
    "# A1\n",
    "A = A - A.transpose()\n",
    "A"
   ]
  },
  {
   "cell_type": "code",
   "execution_count": 53,
   "metadata": {},
   "outputs": [],
   "source": [
    "# Check if matrix is square\n",
    "assert A.shape[0] == A.shape[1] > 0\n",
    "# Check if it's skew-symmetric\n",
    "assert abs((A + A.T).max()) < 1e-14\n",
    "\n",
    "n = A.shape[0]\n",
    "\n",
    "# Check if we have a complex data type\n",
    "if np.issubdtype(A.dtype, np.complexfloating):\n",
    "    householder = pf.householder_complex\n",
    "elif not np.issubdtype(A.dtype, np.number):\n",
    "    raise TypeError(\"pfaffian() can only work on numeric input\")\n",
    "else:\n",
    "    householder = pf.householder_real\n",
    "\n",
    "A = np.asarray(A)  # the slice views work only properly for arrays"
   ]
  },
  {
   "cell_type": "code",
   "execution_count": 54,
   "metadata": {},
   "outputs": [
    {
     "data": {
      "text/plain": [
       "(-0.37682887362833534-1.1304866208850064j)"
      ]
     },
     "execution_count": 54,
     "metadata": {},
     "output_type": "execute_result"
    }
   ],
   "source": [
    "pfaffian_val = 1.0\n",
    "\n",
    "for i in range(A.shape[0] - 2):\n",
    "    # Find a Householder vector to eliminate the i-th column\n",
    "    v, tau, alpha = householder(A[i + 1 :, i])\n",
    "    A[i + 1, i] = alpha\n",
    "    A[i, i + 1] = -alpha\n",
    "    A[i + 2 :, i] = 0\n",
    "    A[i, i + 2 :] = 0\n",
    "\n",
    "    # Update the matrix block A(i+1:N,i+1:N)\n",
    "    w = tau * np.dot(A[i + 1 :, i + 1 :], v.conj())\n",
    "    A[i + 1 :, i + 1 :] = A[i + 1 :, i + 1 :] + np.outer(v, w) - np.outer(w, v)\n",
    "\n",
    "    if tau != 0:\n",
    "        pfaffian_val *= 1 - tau\n",
    "    if i % 2 == 0:\n",
    "        pfaffian_val *= -alpha\n",
    "\n",
    "pfaffian_val"
   ]
  },
  {
   "cell_type": "code",
   "execution_count": 55,
   "metadata": {},
   "outputs": [
    {
     "data": {
      "text/plain": [
       "array([[ 0.        +0.j        , -0.37682887-1.13048662j,\n",
       "         0.        +0.j        ,  0.        +0.j        ],\n",
       "       [ 0.37682887+1.13048662j,  0.        +0.j        ,\n",
       "         0.32506487-0.61521359j,  0.        +0.j        ],\n",
       "       [ 0.        +0.j        , -0.32506487+0.61521359j,\n",
       "         0.        +0.j        , -0.55993586+0.51216882j],\n",
       "       [ 0.        +0.j        ,  0.        +0.j        ,\n",
       "         0.55993586-0.51216882j,  0.        +0.j        ]])"
      ]
     },
     "execution_count": 55,
     "metadata": {},
     "output_type": "execute_result"
    }
   ],
   "source": [
    "A"
   ]
  },
  {
   "cell_type": "code",
   "execution_count": null,
   "metadata": {},
   "outputs": [],
   "source": []
  }
 ],
 "metadata": {
  "kernelspec": {
   "display_name": "2022.2.1",
   "language": "python",
   "name": "python3"
  },
  "language_info": {
   "codemirror_mode": {
    "name": "ipython",
    "version": 3
   },
   "file_extension": ".py",
   "mimetype": "text/x-python",
   "name": "python",
   "nbconvert_exporter": "python",
   "pygments_lexer": "ipython3",
   "version": "3.9.18"
  }
 },
 "nbformat": 4,
 "nbformat_minor": 2
}
